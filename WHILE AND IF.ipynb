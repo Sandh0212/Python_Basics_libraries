{
 "cells": [
  {
   "cell_type": "code",
   "execution_count": 1,
   "metadata": {},
   "outputs": [
    {
     "name": "stdout",
     "output_type": "stream",
     "text": [
      "Enter the temp in Celsius :96\n",
      "Temp in DF is 204.8\n"
     ]
    }
   ],
   "source": [
    "temp=eval(input('Enter the temp in Celsius :'))\n",
    "while temp <-273:\n",
    "    temp=eval(input('Impossible enter the valid temp :'))\n",
    "print ('Temp in DF is',9/5*temp+32)\n"
   ]
  },
  {
   "cell_type": "code",
   "execution_count": 3,
   "metadata": {},
   "outputs": [
    {
     "name": "stdout",
     "output_type": "stream",
     "text": [
      "Enter the temp in Celsius :-300\n",
      "Impossible enter the valid temp :102\n",
      "Temp in DF is 215.6\n"
     ]
    }
   ],
   "source": [
    "temp=eval(input('Enter the temp in Celsius :'))\n",
    "while temp <-273:\n",
    "    temp=eval(input('Impossible enter the valid temp :'))\n",
    "print ('Temp in DF is',9/5*temp+32)"
   ]
  },
  {
   "cell_type": "code",
   "execution_count": 6,
   "metadata": {},
   "outputs": [
    {
     "name": "stdout",
     "output_type": "stream",
     "text": [
      "Enter the rainfall in cm :500\n",
      "There is medium rainfall\n"
     ]
    }
   ],
   "source": [
    "Rainfall=eval(input('Enter the rainfall in cm :'))\n",
    "while Rainfall > 1000:\n",
    "    print('There is heavy rainfall')\n",
    "print ('There is medium rainfall')\n",
    "    "
   ]
  },
  {
   "cell_type": "code",
   "execution_count": 2,
   "metadata": {},
   "outputs": [
    {
     "name": "stdout",
     "output_type": "stream",
     "text": [
      "Enter the table No :12\n",
      "Enter the row num :10\n",
      "12 X 1 = 12\n",
      "12 X 2 = 24\n",
      "12 X 3 = 36\n",
      "12 X 4 = 48\n",
      "12 X 5 = 60\n",
      "12 X 6 = 72\n",
      "12 X 7 = 84\n",
      "12 X 8 = 96\n",
      "12 X 9 = 108\n",
      "12 X 10 = 120\n"
     ]
    }
   ],
   "source": [
    "table1=eval(input(\"Enter the table No :\"))\n",
    "table2=eval(input(\"Enter the row num :\"))\n",
    "i=1\n",
    "while i<=table2:\n",
    "    print(table1,'X',i,'=',table1*i)\n",
    "    i=i+1"
   ]
  },
  {
   "cell_type": "code",
   "execution_count": 6,
   "metadata": {},
   "outputs": [
    {
     "name": "stdout",
     "output_type": "stream",
     "text": [
      "Enter the temp in FH (less than -1000):96\n",
      "The temp in DC:  35.55555555555556\n",
      "Enter the temp in FH (less than -1000):98\n",
      "The temp in DC:  36.666666666666664\n",
      "Enter the temp in FH (less than -1000):-999\n",
      "The temp in DC:  -572.7777777777777\n",
      "Enter the temp in FH (less than -1000):-1000\n",
      "The temp is Abnormal Please be safe\n"
     ]
    }
   ],
   "source": [
    "temp=0\n",
    "while temp != -1000:\n",
    "    temp = eval(input('Enter the temp in FH (less than -1000):'))\n",
    "    if temp!= -1000:\n",
    "        print('The temp in DC: ',(temp-32)/1.8)\n",
    "    else:\n",
    "        print('The temp is Abnormal Please be safe')"
   ]
  },
  {
   "cell_type": "code",
   "execution_count": 8,
   "metadata": {},
   "outputs": [
    {
     "name": "stdout",
     "output_type": "stream",
     "text": [
      "Enter the temp in FH (less than -1000):102\n",
      "The temp in DC:  38.888888888888886\n",
      "Enter the temp in FH (less than -1000):-1000\n",
      "The temp is Abnormal Please be safe\n"
     ]
    }
   ],
   "source": [
    "i=0\n",
    "for i in range (-1000,1000):\n",
    "    i=eval(input('Enter the temp in FH (less than -1000):'))\n",
    "    if i!= -1000:\n",
    "        print('The temp in DC: ',(i-32)/1.8)\n",
    "    else:\n",
    "        print('The temp is Abnormal Please be safe')\n",
    "        break"
   ]
  },
  {
   "cell_type": "code",
   "execution_count": 9,
   "metadata": {},
   "outputs": [
    {
     "name": "stdout",
     "output_type": "stream",
     "text": [
      "Enter the len of the list :10\n",
      "Enter the element :1\n",
      "Enter the element :2\n",
      "Enter the element :3\n",
      "Enter the element :4\n",
      "Enter the element :5\n",
      "Enter the element :6\n",
      "Enter the element :7\n",
      "Enter the element :8\n",
      "Enter the element :9\n",
      "Enter the element :10\n"
     ]
    }
   ],
   "source": [
    "lenoflist=eval(input('Enter the len of the list :'))\n",
    "list1=[]\n",
    "for i in range (0,lenoflist):\n",
    "    i=eval(input('Enter the element :'))\n",
    "    list1.append(i)"
   ]
  },
  {
   "cell_type": "code",
   "execution_count": 11,
   "metadata": {},
   "outputs": [
    {
     "data": {
      "text/plain": [
       "[1, 2, 3, 4, 5, 6, 7, 8, 9, 10]"
      ]
     },
     "execution_count": 11,
     "metadata": {},
     "output_type": "execute_result"
    }
   ],
   "source": [
    "list1"
   ]
  },
  {
   "cell_type": "code",
   "execution_count": 14,
   "metadata": {},
   "outputs": [
    {
     "data": {
      "text/plain": [
       "list"
      ]
     },
     "execution_count": 14,
     "metadata": {},
     "output_type": "execute_result"
    }
   ],
   "source": [
    "type(list1)"
   ]
  },
  {
   "cell_type": "code",
   "execution_count": 24,
   "metadata": {},
   "outputs": [
    {
     "name": "stdout",
     "output_type": "stream",
     "text": [
      "Enter the len of the list :5\n",
      "Enter the element :5\n",
      "Enter the element :10\n",
      "Enter the element :15\n",
      "Enter the element :20\n",
      "Enter the element :25\n"
     ]
    }
   ],
   "source": [
    "lenoflist=eval(input('Enter the len of the list :'))\n",
    "list2=[]\n",
    "i=0\n",
    "while i<lenoflist:\n",
    "    X=eval(input('Enter the element :'))\n",
    "    list2.append(X)\n",
    "    i=i+1    "
   ]
  },
  {
   "cell_type": "code",
   "execution_count": 25,
   "metadata": {},
   "outputs": [
    {
     "data": {
      "text/plain": [
       "[5, 10, 15, 20, 25]"
      ]
     },
     "execution_count": 25,
     "metadata": {},
     "output_type": "execute_result"
    }
   ],
   "source": [
    "list2"
   ]
  },
  {
   "cell_type": "code",
   "execution_count": 27,
   "metadata": {},
   "outputs": [],
   "source": [
    "Age1 = 24\n",
    "Age2 = 21"
   ]
  },
  {
   "cell_type": "code",
   "execution_count": 29,
   "metadata": {},
   "outputs": [
    {
     "data": {
      "text/plain": [
       "False"
      ]
     },
     "execution_count": 29,
     "metadata": {},
     "output_type": "execute_result"
    }
   ],
   "source": [
    "Age1 == Age2"
   ]
  },
  {
   "cell_type": "code",
   "execution_count": 31,
   "metadata": {},
   "outputs": [
    {
     "data": {
      "text/plain": [
       "True"
      ]
     },
     "execution_count": 31,
     "metadata": {},
     "output_type": "execute_result"
    }
   ],
   "source": [
    "Age1 == 24 or Age2 == 22"
   ]
  },
  {
   "cell_type": "code",
   "execution_count": 33,
   "metadata": {},
   "outputs": [
    {
     "data": {
      "text/plain": [
       "False"
      ]
     },
     "execution_count": 33,
     "metadata": {},
     "output_type": "execute_result"
    }
   ],
   "source": [
    "Age1 == 24 and Age2 == 22"
   ]
  },
  {
   "cell_type": "code",
   "execution_count": 35,
   "metadata": {},
   "outputs": [],
   "source": [
    "req_items = ['pant','Chudi','shirt','legging','kurti']"
   ]
  },
  {
   "cell_type": "code",
   "execution_count": 37,
   "metadata": {},
   "outputs": [
    {
     "data": {
      "text/plain": [
       "False"
      ]
     },
     "execution_count": 37,
     "metadata": {},
     "output_type": "execute_result"
    }
   ],
   "source": [
    "'trousers' in req_items"
   ]
  },
  {
   "cell_type": "code",
   "execution_count": 40,
   "metadata": {},
   "outputs": [
    {
     "data": {
      "text/plain": [
       "True"
      ]
     },
     "execution_count": 40,
     "metadata": {},
     "output_type": "execute_result"
    }
   ],
   "source": [
    "'shirt' in req_items"
   ]
  },
  {
   "cell_type": "code",
   "execution_count": 57,
   "metadata": {},
   "outputs": [],
   "source": [
    "unautho_user = ['Balaji','Kamal','Vinu','Lachu']\n",
    "autho_user='Sandhya'"
   ]
  },
  {
   "cell_type": "code",
   "execution_count": 61,
   "metadata": {},
   "outputs": [
    {
     "name": "stdout",
     "output_type": "stream",
     "text": [
      "Sandhya you are an authorised user\n"
     ]
    }
   ],
   "source": [
    "if autho_user not in unautho_user:\n",
    "    print(autho_user.title(),\"you are an authorised user\" )\n"
   ]
  },
  {
   "cell_type": "code",
   "execution_count": 64,
   "metadata": {},
   "outputs": [
    {
     "name": "stdout",
     "output_type": "stream",
     "text": [
      "Enter salary :60000\n",
      "Wealthy\n"
     ]
    }
   ],
   "source": [
    "salary=eval(input('Enter salary :'))\n",
    "if salary in range(10000,20001):\n",
    "    print('BPL')\n",
    "elif salary in range(20000,50001):\n",
    "    print('Middle class')\n",
    "else :\n",
    "    print('Wealthy')"
   ]
  },
  {
   "cell_type": "code",
   "execution_count": null,
   "metadata": {},
   "outputs": [],
   "source": []
  }
 ],
 "metadata": {
  "kernelspec": {
   "display_name": "Python 3",
   "language": "python",
   "name": "python3"
  },
  "language_info": {
   "codemirror_mode": {
    "name": "ipython",
    "version": 3
   },
   "file_extension": ".py",
   "mimetype": "text/x-python",
   "name": "python",
   "nbconvert_exporter": "python",
   "pygments_lexer": "ipython3",
   "version": "3.8.5"
  }
 },
 "nbformat": 4,
 "nbformat_minor": 4
}
